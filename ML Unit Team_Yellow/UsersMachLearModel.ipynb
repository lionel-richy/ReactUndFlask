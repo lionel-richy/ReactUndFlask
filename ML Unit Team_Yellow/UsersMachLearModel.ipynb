{
 "cells": [
  {
   "attachments": {},
   "cell_type": "markdown",
   "metadata": {},
   "source": [
    "Import Libraries"
   ]
  },
  {
   "cell_type": "code",
   "execution_count": 27,
   "metadata": {},
   "outputs": [],
   "source": [
    "import numpy as np \n",
    "import pandas as pd  \n",
    "import numpy as np\n",
    "import math\n",
    "import  matplotlib.pyplot  as  plt \n",
    "import seaborn as sns\n",
    "# Ignore warnings\n",
    "import warnings\n",
    "warnings.filterwarnings(\"ignore\")\n",
    "#% matplotlib inline"
   ]
  },
  {
   "cell_type": "code",
   "execution_count": 28,
   "metadata": {},
   "outputs": [],
   "source": [
    "import sklearn\n",
    "from sklearn.linear_model import LinearRegression\n",
    "from sklearn.svm import SVR\n",
    "from sklearn.naive_bayes import GaussianNB\n",
    "from sklearn.neighbors import KNeighborsClassifier\n",
    "from sklearn.ensemble import GradientBoostingRegressor\n",
    "from sklearn.model_selection import train_test_split\n",
    "from sklearn.model_selection import cross_val_score\n",
    "from sklearn.model_selection import validation_curve\n",
    "from sklearn.model_selection import GridSearchCV\n",
    "from sklearn.metrics import accuracy_score\n",
    "from sklearn import metrics\n",
    "from sklearn.metrics import mean_absolute_error, mean_squared_error"
   ]
  },
  {
   "attachments": {},
   "cell_type": "markdown",
   "metadata": {},
   "source": [
    "Exploratory Data Analysis"
   ]
  },
  {
   "cell_type": "code",
   "execution_count": 29,
   "metadata": {},
   "outputs": [
    {
     "data": {
      "text/plain": [
       "'_\\nFor all new users we have saved their different coordinates and their average speed_\\nfor our model to be more intelligent, it needs more data. Reason why we have several users \\n\\n    '"
      ]
     },
     "execution_count": 29,
     "metadata": {},
     "output_type": "execute_result"
    }
   ],
   "source": [
    "\"\"\"_\n",
    "For all new users we have saved their different coordinates and their average speed_\n",
    "for our model to be more intelligent, it needs more data. Reason why we have several users \n",
    "\n",
    "    \"\"\""
   ]
  },
  {
   "cell_type": "code",
   "execution_count": 30,
   "metadata": {},
   "outputs": [],
   "source": [
    "#df1 = pd.read_excel((r'user1Datasets.xlsx'))\n",
    "df2 = pd.read_excel((r'user2Datasets.xlsx'))\n",
    "#df3 = pd.read_excel((r'user3Datasets.xlsx'))\n",
    "#df4 = pd.read_excel((r'user4Datasets.xlsx'))\n",
    "#df5 = pd.read_excel((r'user5Datasets.xlsx'))\n",
    "\n",
    "## concatenating  of the different users' dataframes along rows\n",
    "df = pd.concat([df2], axis=0)\n",
    "\n"
   ]
  },
  {
   "cell_type": "code",
   "execution_count": 31,
   "metadata": {},
   "outputs": [
    {
     "data": {
      "text/html": [
       "<div>\n",
       "<style scoped>\n",
       "    .dataframe tbody tr th:only-of-type {\n",
       "        vertical-align: middle;\n",
       "    }\n",
       "\n",
       "    .dataframe tbody tr th {\n",
       "        vertical-align: top;\n",
       "    }\n",
       "\n",
       "    .dataframe thead th {\n",
       "        text-align: right;\n",
       "    }\n",
       "</style>\n",
       "<table border=\"1\" class=\"dataframe\">\n",
       "  <thead>\n",
       "    <tr style=\"text-align: right;\">\n",
       "      <th></th>\n",
       "      <th>latitudeStart</th>\n",
       "      <th>longitudeStart</th>\n",
       "      <th>latitudeEnd</th>\n",
       "      <th>longitudeEnd</th>\n",
       "      <th>averageSpeed</th>\n",
       "    </tr>\n",
       "  </thead>\n",
       "  <tbody>\n",
       "    <tr>\n",
       "      <th>0</th>\n",
       "      <td>51.452831</td>\n",
       "      <td>7.249331</td>\n",
       "      <td>51.429795</td>\n",
       "      <td>6.786755</td>\n",
       "      <td>3.51</td>\n",
       "    </tr>\n",
       "    <tr>\n",
       "      <th>1</th>\n",
       "      <td>51.452831</td>\n",
       "      <td>7.249327</td>\n",
       "      <td>51.429783</td>\n",
       "      <td>6.786729</td>\n",
       "      <td>4.01</td>\n",
       "    </tr>\n",
       "    <tr>\n",
       "      <th>2</th>\n",
       "      <td>51.452826</td>\n",
       "      <td>7.249328</td>\n",
       "      <td>51.429749</td>\n",
       "      <td>6.786717</td>\n",
       "      <td>4.51</td>\n",
       "    </tr>\n",
       "    <tr>\n",
       "      <th>3</th>\n",
       "      <td>51.452824</td>\n",
       "      <td>7.249328</td>\n",
       "      <td>51.429746</td>\n",
       "      <td>6.786700</td>\n",
       "      <td>5.01</td>\n",
       "    </tr>\n",
       "    <tr>\n",
       "      <th>4</th>\n",
       "      <td>51.452824</td>\n",
       "      <td>7.249319</td>\n",
       "      <td>51.429757</td>\n",
       "      <td>6.786722</td>\n",
       "      <td>3.63</td>\n",
       "    </tr>\n",
       "    <tr>\n",
       "      <th>5</th>\n",
       "      <td>51.452827</td>\n",
       "      <td>7.249324</td>\n",
       "      <td>51.429761</td>\n",
       "      <td>6.786727</td>\n",
       "      <td>4.13</td>\n",
       "    </tr>\n",
       "    <tr>\n",
       "      <th>6</th>\n",
       "      <td>51.452827</td>\n",
       "      <td>7.249324</td>\n",
       "      <td>51.429737</td>\n",
       "      <td>6.786676</td>\n",
       "      <td>4.63</td>\n",
       "    </tr>\n",
       "    <tr>\n",
       "      <th>7</th>\n",
       "      <td>51.452827</td>\n",
       "      <td>7.249320</td>\n",
       "      <td>51.429735</td>\n",
       "      <td>6.786676</td>\n",
       "      <td>5.13</td>\n",
       "    </tr>\n",
       "    <tr>\n",
       "      <th>8</th>\n",
       "      <td>51.452829</td>\n",
       "      <td>7.249322</td>\n",
       "      <td>51.429734</td>\n",
       "      <td>6.786676</td>\n",
       "      <td>3.75</td>\n",
       "    </tr>\n",
       "    <tr>\n",
       "      <th>9</th>\n",
       "      <td>51.452829</td>\n",
       "      <td>7.249322</td>\n",
       "      <td>51.429737</td>\n",
       "      <td>6.786676</td>\n",
       "      <td>4.25</td>\n",
       "    </tr>\n",
       "  </tbody>\n",
       "</table>\n",
       "</div>"
      ],
      "text/plain": [
       "   latitudeStart  longitudeStart  latitudeEnd  longitudeEnd  averageSpeed\n",
       "0      51.452831        7.249331    51.429795      6.786755          3.51\n",
       "1      51.452831        7.249327    51.429783      6.786729          4.01\n",
       "2      51.452826        7.249328    51.429749      6.786717          4.51\n",
       "3      51.452824        7.249328    51.429746      6.786700          5.01\n",
       "4      51.452824        7.249319    51.429757      6.786722          3.63\n",
       "5      51.452827        7.249324    51.429761      6.786727          4.13\n",
       "6      51.452827        7.249324    51.429737      6.786676          4.63\n",
       "7      51.452827        7.249320    51.429735      6.786676          5.13\n",
       "8      51.452829        7.249322    51.429734      6.786676          3.75\n",
       "9      51.452829        7.249322    51.429737      6.786676          4.25"
      ]
     },
     "execution_count": 31,
     "metadata": {},
     "output_type": "execute_result"
    }
   ],
   "source": [
    "df.head(10)"
   ]
  },
  {
   "cell_type": "code",
   "execution_count": 32,
   "metadata": {},
   "outputs": [
    {
     "data": {
      "text/plain": [
       "(176, 5)"
      ]
     },
     "execution_count": 32,
     "metadata": {},
     "output_type": "execute_result"
    }
   ],
   "source": [
    "df.shape"
   ]
  },
  {
   "cell_type": "code",
   "execution_count": 33,
   "metadata": {},
   "outputs": [
    {
     "name": "stdout",
     "output_type": "stream",
     "text": [
      "                count   mean   std    min    25%    50%    75%    max\n",
      "latitudeStart   176.0  51.47  0.04  51.43  51.45  51.45  51.51  51.53\n",
      "longitudeStart  176.0   7.21  0.25   6.79   7.25   7.25   7.42   7.42\n",
      "latitudeEnd     176.0  51.47  0.04  51.43  51.45  51.45  51.51  51.53\n",
      "longitudeEnd    176.0   7.21  0.25   6.79   7.25   7.25   7.42   7.42\n",
      "averageSpeed    176.0   4.38  1.52   1.35   3.74   4.39   5.16   8.42\n"
     ]
    }
   ],
   "source": [
    "print(df.describe().round(2).T)"
   ]
  },
  {
   "cell_type": "code",
   "execution_count": 34,
   "metadata": {},
   "outputs": [
    {
     "data": {
      "image/png": "[encoded data removed]",
      "text/plain": [
       "<Figure size 432x288 with 1 Axes>"
      ]
     },
     "metadata": {
      "needs_background": "light"
     },
     "output_type": "display_data"
    },
    {
     "data": {
      "image/png": "[encoded data removed]",
      "text/plain": [
       "<Figure size 432x288 with 1 Axes>"
      ]
     },
     "metadata": {
      "needs_background": "light"
     },
     "output_type": "display_data"
    },
    {
     "data": {
      "image/png": "[encoded data removed]",
      "text/plain": [
       "<Figure size 432x288 with 1 Axes>"
      ]
     },
     "metadata": {
      "needs_background": "light"
     },
     "output_type": "display_data"
    },
    {
     "data": {
      "image/png": "[encoded data removed]",
      "text/plain": [
       "<Figure size 432x288 with 1 Axes>"
      ]
     },
     "metadata": {
      "needs_background": "light"
     },
     "output_type": "display_data"
    }
   ],
   "source": [
    "#This time, we will use Seaborn, an extension of Matplotlib which Pandas uses under the hood when plotting:\n",
    "import seaborn as sns # Convention alias for Seaborn\n",
    "\n",
    "variables = ['latitudeStart', 'longitudeStart', 'latitudeEnd','longitudeEnd']\n",
    "\n",
    "for var in variables:\n",
    "    plt.figure() # Creating a rectangle (figure) for each plot\n",
    "    # Regression Plot also by default includes\n",
    "    # best-fitting regression line\n",
    "    # which can be turned off via `fit_reg=False`\n",
    "    sns.regplot(x=var, y='averageSpeed', data=df).set(title=f'Regression plot of {var} and averageSpeed');"
   ]
  },
  {
   "cell_type": "code",
   "execution_count": 35,
   "metadata": {},
   "outputs": [
    {
     "data": {
      "image/png": "[encoded data removed]",
      "text/plain": [
       "<Figure size 432x288 with 2 Axes>"
      ]
     },
     "metadata": {
      "needs_background": "light"
     },
     "output_type": "display_data"
    }
   ],
   "source": [
    "correlations = df.corr()\n",
    "# annot=True displays the correlation values\n",
    "sns.heatmap(correlations, annot=True).set(title='Heatmap of Duration - Pearson Correlations');"
   ]
  },
  {
   "attachments": {},
   "cell_type": "markdown",
   "metadata": {},
   "source": [
    "Preparing the Data"
   ]
  },
  {
   "cell_type": "code",
   "execution_count": 36,
   "metadata": {},
   "outputs": [],
   "source": [
    "\n",
    "y = df['averageSpeed']\n",
    "X = df[['latitudeStart', 'longitudeStart',\n",
    "       'latitudeEnd', 'longitudeEnd']]"
   ]
  },
  {
   "cell_type": "code",
   "execution_count": 37,
   "metadata": {},
   "outputs": [],
   "source": [
    "#To be able to have the same results, or reproducible results, we define a constant called SEED\n",
    "SEED = 42"
   ]
  },
  {
   "cell_type": "code",
   "execution_count": 38,
   "metadata": {},
   "outputs": [],
   "source": [
    "X_train, X_test, y_train, y_test = train_test_split(X, y, \n",
    "                                                    test_size=0.2, \n",
    "                                                    random_state=SEED)"
   ]
  },
  {
   "attachments": {},
   "cell_type": "markdown",
   "metadata": {},
   "source": [
    "#Training the Model"
   ]
  },
  {
   "cell_type": "code",
   "execution_count": 39,
   "metadata": {},
   "outputs": [
    {
     "data": {
      "text/plain": [
       "(176, 4)"
      ]
     },
     "execution_count": 39,
     "metadata": {},
     "output_type": "execute_result"
    }
   ],
   "source": [
    "\n",
    "X.shape "
   ]
  },
  {
   "cell_type": "code",
   "execution_count": 40,
   "metadata": {},
   "outputs": [
    {
     "data": {
      "text/plain": [
       "LinearRegression()"
      ]
     },
     "execution_count": 40,
     "metadata": {},
     "output_type": "execute_result"
    }
   ],
   "source": [
    "#we need to fit the line to our data, we will do that by using the .fit() method\n",
    "regressor = LinearRegression()\n",
    "regressor.fit(X_train, y_train)"
   ]
  },
  {
   "cell_type": "code",
   "execution_count": 41,
   "metadata": {},
   "outputs": [
    {
     "data": {
      "text/plain": [
       "-906.3473638574391"
      ]
     },
     "execution_count": 41,
     "metadata": {},
     "output_type": "execute_result"
    }
   ],
   "source": [
    "#After fitting the model and finding our optimal solution, we also look at the intercept:\n",
    "regressor.intercept_\n"
   ]
  },
  {
   "cell_type": "code",
   "execution_count": 42,
   "metadata": {},
   "outputs": [
    {
     "data": {
      "text/plain": [
       "array([ 8.67156338, -1.13013351,  9.39636548, -1.55782658])"
      ]
     },
     "execution_count": 42,
     "metadata": {},
     "output_type": "execute_result"
    }
   ],
   "source": [
    "#And at the coefficients of the features\n",
    "regressor.coef_"
   ]
  },
  {
   "cell_type": "code",
   "execution_count": 43,
   "metadata": {},
   "outputs": [
    {
     "data": {
      "text/plain": [
       "Index(['latitudeStart', 'longitudeStart', 'latitudeEnd', 'longitudeEnd'], dtype='object')"
      ]
     },
     "execution_count": 43,
     "metadata": {},
     "output_type": "execute_result"
    }
   ],
   "source": [
    "#Those four values are the coefficients for each of our features in the same order as we have them in our X data.\n",
    "feature_names = X.columns\n",
    "feature_names\n"
   ]
  },
  {
   "cell_type": "code",
   "execution_count": 44,
   "metadata": {},
   "outputs": [
    {
     "name": "stdout",
     "output_type": "stream",
     "text": [
      "                Coefficient value\n",
      "latitudeStart            8.671563\n",
      "longitudeStart          -1.130134\n",
      "latitudeEnd              9.396365\n",
      "longitudeEnd            -1.557827\n"
     ]
    }
   ],
   "source": [
    "#we assign our column names to a feature_names variable, and our coefficients to a model_coefficients variable. After that, we create a dataframe with our features as an index and our coefficients as column values called coefficients_df\n",
    "\n",
    "feature_names = X.columns\n",
    "model_coefficients = regressor.coef_\n",
    "\n",
    "coefficients_df = pd.DataFrame(data = model_coefficients, \n",
    "                              index = feature_names, \n",
    "                              columns = ['Coefficient value'])\n",
    "print(coefficients_df)"
   ]
  },
  {
   "attachments": {},
   "cell_type": "markdown",
   "metadata": {},
   "source": [
    "#Making Predictions with the Regression Model"
   ]
  },
  {
   "cell_type": "code",
   "execution_count": 45,
   "metadata": {},
   "outputs": [],
   "source": [
    "#The y_pred variable contains all the predicted values for the input values in the X_test\n",
    "y_pred = regressor.predict(X_test)"
   ]
  },
  {
   "cell_type": "code",
   "execution_count": 46,
   "metadata": {},
   "outputs": [
    {
     "name": "stdout",
     "output_type": "stream",
     "text": [
      "     Actual  Predicted\n",
      "19    3.800   4.316897\n",
      "45    4.340   4.126819\n",
      "139   5.280   4.155693\n",
      "30    3.860   4.127483\n",
      "67    6.490   4.449709\n",
      "16    8.300   4.317026\n",
      "119   3.990   4.156048\n",
      "172   3.390   5.248074\n",
      "109   5.630   4.156069\n",
      "140   3.390   4.155696\n",
      "24    1.354   4.127531\n",
      "160   4.900   4.660002\n",
      "41    4.220   4.127484\n",
      "118   5.370   4.156041\n",
      "15    6.100   4.316652\n",
      "111   8.330   4.156040\n",
      "113   3.330   4.156018\n",
      "82    4.070   4.450198\n",
      "9     4.250   4.316546\n",
      "114   3.830   4.156088\n",
      "18    3.300   4.317212\n",
      "66    5.990   4.449738\n",
      "60    2.990   4.449973\n",
      "167   5.190   4.659678\n",
      "169   6.190   4.659804\n",
      "150   5.130   4.155809\n",
      "117   5.330   4.156067\n",
      "65    5.490   4.449724\n",
      "90    4.310   4.452032\n",
      "55    5.140   4.127087\n",
      "29    3.660   4.127507\n",
      "127   4.420   4.155717\n",
      "144   5.390   4.155725\n",
      "31    4.360   4.127454\n",
      "12    3.870   4.316926\n",
      "42    4.720   4.127461\n"
     ]
    }
   ],
   "source": [
    "#Now, that we have our test predictions, we can better compare them with the actual output values for X_test by organizing them in a DataFrameformat\n",
    "\n",
    "results = pd.DataFrame({'Actual': y_test, 'Predicted': y_pred})\n",
    "print(results)\n"
   ]
  },
  {
   "attachments": {},
   "cell_type": "markdown",
   "metadata": {},
   "source": [
    "Evaluating the Model"
   ]
  },
  {
   "cell_type": "code",
   "execution_count": 47,
   "metadata": {},
   "outputs": [
    {
     "name": "stdout",
     "output_type": "stream",
     "text": [
      "Mean absolute error: 1.05\n",
      "Mean squared error: 2.05\n",
      "Root mean squared error: 1.43\n"
     ]
    }
   ],
   "source": [
    "\n",
    "mae = mean_absolute_error(y_test, y_pred)\n",
    "mse = mean_squared_error(y_test, y_pred)\n",
    "rmse = np.sqrt(mse)\n",
    "\n",
    "print(f'Mean absolute error: {mae:.2f}')\n",
    "print(f'Mean squared error: {mse:.2f}')\n",
    "print(f'Root mean squared error: {rmse:.2f}')"
   ]
  },
  {
   "cell_type": "code",
   "execution_count": 48,
   "metadata": {},
   "outputs": [],
   "source": [
    "##We can see that the value of the RMSE is 2.08, \n",
    "# which means that our model might get its prediction wrong by adding or subtracting 2.5 from the actual value. \n",
    "# It would be better to have this error closer to 0, and 2.08 is a small number - \n",
    "# this indicates that our model might be predicting very well."
   ]
  },
  {
   "cell_type": "code",
   "execution_count": 49,
   "metadata": {},
   "outputs": [
    {
     "data": {
      "text/plain": [
       "0.020141737479684063"
      ]
     },
     "execution_count": 49,
     "metadata": {},
     "output_type": "execute_result"
    }
   ],
   "source": [
    "\n",
    "regressor.score(X_train, y_train)"
   ]
  },
  {
   "cell_type": "code",
   "execution_count": 50,
   "metadata": {},
   "outputs": [],
   "source": [
    "#import joblib\n",
    "import pickle\n"
   ]
  },
  {
   "cell_type": "code",
   "execution_count": 52,
   "metadata": {},
   "outputs": [],
   "source": [
    "\n",
    "pickle.dump(regressor, open(\"model.pkl\", \"wb\"))\n",
    "\n",
    "#joblib.dump(results, \"results.pkl\")"
   ]
  },
  {
   "cell_type": "code",
   "execution_count": 57,
   "metadata": {},
   "outputs": [
    {
     "name": "stdout",
     "output_type": "stream",
     "text": [
      "[4.31669277]\n"
     ]
    }
   ],
   "source": [
    "model = pickle.load(open('model.pkl','rb'))\n",
    "print(model.predict([[51.4528259\n",
    ", 7.249321\n",
    ",  51.4297554\n",
    ", 6.7866744\n",
    "]]))"
   ]
  },
  {
   "cell_type": "code",
   "execution_count": 61,
   "metadata": {},
   "outputs": [],
   "source": [
    "import h5py\n"
   ]
  },
  {
   "cell_type": "code",
   "execution_count": null,
   "metadata": {},
   "outputs": [],
   "source": [
    "final  = h5py.File('model.pkl','rb')"
   ]
  },
  {
   "cell_type": "code",
   "execution_count": 62,
   "metadata": {},
   "outputs": [],
   "source": [
    "resultat = pd.HDFStore(\"resultat.h5\", \"w\", driver=\"H5FD_CORE\")"
   ]
  },
  {
   "cell_type": "code",
   "execution_count": 63,
   "metadata": {},
   "outputs": [
    {
     "name": "stdout",
     "output_type": "stream",
     "text": [
      "<class 'pandas.io.pytables.HDFStore'>\n",
      "File path: resultat.h5\n",
      "\n"
     ]
    }
   ],
   "source": [
    "print (resultat)"
   ]
  },
  {
   "cell_type": "code",
   "execution_count": 64,
   "metadata": {},
   "outputs": [
    {
     "data": {
      "text/plain": [
       "[]"
      ]
     },
     "execution_count": 64,
     "metadata": {},
     "output_type": "execute_result"
    }
   ],
   "source": [
    "resultat.keys()"
   ]
  }
 ],
 "metadata": {
  "kernelspec": {
   "display_name": "base",
   "language": "python",
   "name": "python3"
  },
  "language_info": {
   "codemirror_mode": {
    "name": "ipython",
    "version": 3
   },
   "file_extension": ".py",
   "mimetype": "text/x-python",
   "name": "python",
   "nbconvert_exporter": "python",
   "pygments_lexer": "ipython3",
   "version": "3.9.12 (main, Apr  4 2022, 05:22:27) [MSC v.1916 64 bit (AMD64)]"
  },
  "orig_nbformat": 4,
  "vscode": {
   "interpreter": {
    "hash": "3ef2238d65fe55f4482fb33ea8ed689d22e340990a823c408341aec24d14bbbd"
   }
  }
 },
 "nbformat": 4,
 "nbformat_minor": 2
}
